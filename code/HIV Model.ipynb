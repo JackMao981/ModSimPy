{
 "cells": [
  {
   "cell_type": "markdown",
   "metadata": {},
   "source": [
    "# HIV Model"
   ]
  },
  {
   "cell_type": "code",
   "execution_count": 277,
   "metadata": {},
   "outputs": [],
   "source": [
    "%matplotlib inline\n",
    "%config InteractiveShell.ast_node_interactivity='last_expr_or_assign'\n",
    "from modsim import *"
   ]
  },
  {
   "cell_type": "code",
   "execution_count": 278,
   "metadata": {},
   "outputs": [],
   "source": [
    "step = 18\n",
    "\n",
    "def make_system(Gamma, mu, tau, Beta, rho, alpha, sigma, delta, pi):\n",
    "    \"\"\"\n",
    "    Gamma: rate at which uninfected CD4 lymphocytes arise\n",
    "    mu: HIV-independent death rate of uninfected lymphocytes\n",
    "    tau: proportion of cells activated\n",
    "    Beta: rate of infection of CD4 lymphocytes per virion\n",
    "    rho: proportion of cells becoming latently infected upon infection\n",
    "    alpha: activation rate of latently infected cells\n",
    "    sigma: removal rate of cell-free virus\n",
    "    delta: removal rate of actively infected CD4\n",
    "    \n",
    "    \"\"\"\n",
    "    init = State(R = 1000, L = 0 , E = 0 , V = 4e-7)\n",
    "    t0 = 0\n",
    "    t_end = 120 * step\n",
    "    \n",
    "    return System(init = init, t0 = t0, t_end = t_end, \n",
    "                  Gamma = Gamma/step, mu = mu/step, tau = tau/step, \n",
    "                  Beta = Beta/step, rho = rho/step, alpha = alpha/step, \n",
    "                  sigma = sigma/step, delta = delta/step, pi = pi/step)\n"
   ]
  },
  {
   "cell_type": "code",
   "execution_count": 279,
   "metadata": {},
   "outputs": [
    {
     "data": {
      "text/html": [
       "<div>\n",
       "<style scoped>\n",
       "    .dataframe tbody tr th:only-of-type {\n",
       "        vertical-align: middle;\n",
       "    }\n",
       "\n",
       "    .dataframe tbody tr th {\n",
       "        vertical-align: top;\n",
       "    }\n",
       "\n",
       "    .dataframe thead th {\n",
       "        text-align: right;\n",
       "    }\n",
       "</style>\n",
       "<table border=\"1\" class=\"dataframe\">\n",
       "  <thead>\n",
       "    <tr style=\"text-align: right;\">\n",
       "      <th></th>\n",
       "      <th>values</th>\n",
       "    </tr>\n",
       "  </thead>\n",
       "  <tbody>\n",
       "    <tr>\n",
       "      <th>init</th>\n",
       "      <td>R    1.000000e+03\n",
       "L    0.000000e+00\n",
       "E    0.000...</td>\n",
       "    </tr>\n",
       "    <tr>\n",
       "      <th>t0</th>\n",
       "      <td>0</td>\n",
       "    </tr>\n",
       "    <tr>\n",
       "      <th>t_end</th>\n",
       "      <td>2160</td>\n",
       "    </tr>\n",
       "    <tr>\n",
       "      <th>Gamma</th>\n",
       "      <td>0.0755556</td>\n",
       "    </tr>\n",
       "    <tr>\n",
       "      <th>mu</th>\n",
       "      <td>7.55556e-05</td>\n",
       "    </tr>\n",
       "    <tr>\n",
       "      <th>tau</th>\n",
       "      <td>0.0111111</td>\n",
       "    </tr>\n",
       "    <tr>\n",
       "      <th>Beta</th>\n",
       "      <td>1.5e-05</td>\n",
       "    </tr>\n",
       "    <tr>\n",
       "      <th>rho</th>\n",
       "      <td>0.00555556</td>\n",
       "    </tr>\n",
       "    <tr>\n",
       "      <th>alpha</th>\n",
       "      <td>0.002</td>\n",
       "    </tr>\n",
       "    <tr>\n",
       "      <th>sigma</th>\n",
       "      <td>0.111111</td>\n",
       "    </tr>\n",
       "    <tr>\n",
       "      <th>delta</th>\n",
       "      <td>0.0183333</td>\n",
       "    </tr>\n",
       "    <tr>\n",
       "      <th>pi</th>\n",
       "      <td>5.55556</td>\n",
       "    </tr>\n",
       "  </tbody>\n",
       "</table>\n",
       "</div>"
      ],
      "text/plain": [
       "init     R    1.000000e+03\n",
       "L    0.000000e+00\n",
       "E    0.000...\n",
       "t0                                                       0\n",
       "t_end                                                 2160\n",
       "Gamma                                            0.0755556\n",
       "mu                                             7.55556e-05\n",
       "tau                                              0.0111111\n",
       "Beta                                               1.5e-05\n",
       "rho                                             0.00555556\n",
       "alpha                                                0.002\n",
       "sigma                                             0.111111\n",
       "delta                                            0.0183333\n",
       "pi                                                 5.55556\n",
       "dtype: object"
      ]
     },
     "execution_count": 279,
     "metadata": {},
     "output_type": "execute_result"
    }
   ],
   "source": [
    "system = make_system(1.36, 1.36e-3, 0.2, 2.7e-4, 0.1, 3.6e-2,2,0.33,100)"
   ]
  },
  {
   "cell_type": "code",
   "execution_count": 280,
   "metadata": {},
   "outputs": [],
   "source": [
    "def update_function(state, t, system):\n",
    "    \"\"\"\n",
    "    Update the HIV Model\n",
    "    state: State (r, l, e, v)\n",
    "    t: time\n",
    "    system: System object\n",
    "    \n",
    "    returns: State (r, l, e, v)\n",
    "    \"\"\"\n",
    "    unpack(system)\n",
    "    \n",
    "    r, l, e, v = state\n",
    "    \n",
    "    uninfected = Gamma * tau - mu * r - Beta * r * v\n",
    "    latent = rho * Beta * r * v - mu * l - alpha * l\n",
    "    active = (1 - rho) * Beta * r * v + alpha * l - delta * e\n",
    "    virions = pi * e - sigma * v\n",
    "    \n",
    "    r += uninfected\n",
    "    l += latent\n",
    "    e += active\n",
    "    v += virions\n",
    "#    print('r: ',r, 'l: ',l ,'e: ', e,'v: ', v)\n",
    "    \n",
    "    return State(R = r, L = l, E = e, V = v)"
   ]
  },
  {
   "cell_type": "code",
   "execution_count": 281,
   "metadata": {},
   "outputs": [],
   "source": [
    "def plot_results(r, l, e, v):\n",
    "    plot(l, '--', label = 'uninfected')\n",
    "    plot(r, '-', label = 'latent')\n",
    "    plot(e,':', label = 'active')\n",
    " #   plot(v, '.', label = 'free virions')\n",
    "    decorate(xlabel='Time (days)',\n",
    "             ylabel='Fraction of population')"
   ]
  },
  {
   "cell_type": "code",
   "execution_count": 282,
   "metadata": {},
   "outputs": [],
   "source": [
    "def run_simulation(system, update_func):\n",
    "    \"\"\"Runs a simulation of the system.\n",
    "        \n",
    "    system: System object\n",
    "    update_func: function that updates state\n",
    "    \n",
    "    returns: TimeFrame\n",
    "    \"\"\"\n",
    "    unpack(system)\n",
    "    \n",
    "    frame = TimeFrame(columns=init.index)\n",
    "    frame.row[t0] = init\n",
    "    \n",
    "    for t in linrange(t0, t_end):\n",
    "        frame.row[t+1] = update_func(frame.row[t], t, system)\n",
    "    return frame"
   ]
  },
  {
   "cell_type": "code",
   "execution_count": 283,
   "metadata": {},
   "outputs": [],
   "source": [
    "results = run_simulation(system, update_function);\n",
    "results.index = results.index/step"
   ]
  },
  {
   "cell_type": "code",
   "execution_count": 284,
   "metadata": {},
   "outputs": [
    {
     "data": {
      "image/png": "[encoded data removed]",
      "text/plain": [
       "<Figure size 432x288 with 1 Axes>"
      ]
     },
     "metadata": {},
     "output_type": "display_data"
    }
   ],
   "source": [
    "plot_results(results.R, results.L, results.E, results.V)"
   ]
  },
  {
   "cell_type": "code",
   "execution_count": 285,
   "metadata": {},
   "outputs": [
    {
     "data": {
      "image/png": "[encoded data removed]",
      "text/plain": [
       "<Figure size 432x288 with 1 Axes>"
      ]
     },
     "metadata": {},
     "output_type": "display_data"
    }
   ],
   "source": [
    "plot(results.V, '.', label = 'free virions')\n",
    "decorate(xlabel='Time (days)',\n",
    "       ylabel='Fraction of population')"
   ]
  },
  {
   "cell_type": "code",
   "execution_count": null,
   "metadata": {},
   "outputs": [],
   "source": []
  }
 ],
 "metadata": {
  "kernelspec": {
   "display_name": "Python 3",
   "language": "python",
   "name": "python3"
  },
  "language_info": {
   "codemirror_mode": {
    "name": "ipython",
    "version": 3
   },
   "file_extension": ".py",
   "mimetype": "text/x-python",
   "name": "python",
   "nbconvert_exporter": "python",
   "pygments_lexer": "ipython3",
   "version": "3.6.5"
  }
 },
 "nbformat": 4,
 "nbformat_minor": 2
}
